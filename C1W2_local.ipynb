{
 "cells": [
  {
   "cell_type": "markdown",
   "metadata": {},
   "source": [
    "### Imports"
   ]
  },
  {
   "cell_type": "code",
   "execution_count": 101,
   "metadata": {},
   "outputs": [],
   "source": [
    "import numpy as np"
   ]
  },
  {
   "cell_type": "markdown",
   "metadata": {},
   "source": [
    "### Auxiliar Functions"
   ]
  },
  {
   "cell_type": "code",
   "execution_count": 102,
   "metadata": {},
   "outputs": [],
   "source": [
    "def swap_rows(M,row_index_1,row_index_2):\n",
    "    M_ = M.copy()\n",
    "    M_[[row_index_1,row_index_2]] = M[[row_index_2,row_index_1]]\n",
    "    return M_"
   ]
  },
  {
   "cell_type": "code",
   "execution_count": 103,
   "metadata": {},
   "outputs": [],
   "source": [
    "def get_index_first_non_zero_value_from_column(M,column,starting_row):\n",
    "    column_array = M[starting_row:,column]\n",
    "    print(column_array)\n",
    "    for i, val in enumerate(column_array):\n",
    "        if not np.isclose(val,0,atol=1e-5):\n",
    "            index = i + starting_row\n",
    "            return index\n",
    "    \n",
    "    return -1"
   ]
  },
  {
   "cell_type": "code",
   "execution_count": 104,
   "metadata": {},
   "outputs": [],
   "source": [
    "def get_index_first_non_zero_value_from_row(M, row, augmented = False):\n",
    "    M_ = M.copy()\n",
    "    if augmented == True:\n",
    "        M_ = M_[:,:-1]\n",
    "    \n",
    "    row_array = M_[row]\n",
    "    for i, val in enumerate(row_array):\n",
    "        if not np.isclose(val,0,atol=1e-5):\n",
    "            return i\n",
    "    return -1"
   ]
  },
  {
   "cell_type": "code",
   "execution_count": 105,
   "metadata": {},
   "outputs": [],
   "source": [
    "def augmented_matrix(A,B):\n",
    "    augmented_M = np.hstack((A,B))\n",
    "    return augmented_M"
   ]
  },
  {
   "cell_type": "code",
   "execution_count": 161,
   "metadata": {},
   "outputs": [],
   "source": [
    "def row_echelon_form(A, B):\n",
    "    det_A = np.linalg.det(A)\n",
    "    if np.isclose(det_A,0) == True:\n",
    "        raise \"Sigular System\"\n",
    "    \n",
    "    A_ = A.copy()\n",
    "    B_ = B.copy()\n",
    "\n",
    "    A_ = A_.astype('float64')\n",
    "    B_ = B_.astype('float64')\n",
    "\n",
    "    num_rows = len(A) \n",
    "    M = augmented_matrix(A_,B_)\n",
    "    print(M)\n",
    "    for row in range(num_rows):\n",
    "        pivot_candidate = M[row,row]\n",
    "        print(\"current pivot:\",pivot_candidate)\n",
    "        if np.isclose(pivot_candidate,0) == True:\n",
    "\n",
    "            first_non_zero_value_below_pivot_candidate = get_index_first_non_zero_value_from_column(M, row, row)\n",
    "            print(\"first non zero below pivot candidate:\",first_non_zero_value_below_pivot_candidate)\n",
    "            M = swap_rows(M, row, first_non_zero_value_below_pivot_candidate)\n",
    "            pivot = M[row,row]\n",
    "        else:\n",
    "            pivot = pivot_candidate\n",
    "        \n",
    "        M[row] = 1/pivot * M[row]\n",
    "\n",
    "        for j in range(row + 1, num_rows):\n",
    "            value_below_pivot = M[j,row]\n",
    "            print(\"value_below_pivot:\",M[j,row])\n",
    "            print(\"Row value below * matriz[row]\",value_below_pivot*M[row])\n",
    "            M[j] = M[j] - value_below_pivot*M[row]\n",
    "        \n",
    "        print(M)\n",
    "        print(\"________\")\n",
    "    print(\"finish\")\n",
    "    return (M)"
   ]
  },
  {
   "cell_type": "code",
   "execution_count": null,
   "metadata": {},
   "outputs": [],
   "source": [
    "def back_substitution(M):\n",
    "    M_ = M.copy()\n",
    "    num_rows = M_.shape[0]\n",
    "    for row in reversed(range(num_rows)): \n",
    "       print(\"current row pivot:\",row)\n",
    "       for j in range(row):\n",
    "           print(\"  current row subs:\",j)\n",
    "           row_to_reduce = M_[j]\n",
    "           print(\"      \",row_to_reduce)\n",
    "           value = row_to_reduce[row]\n",
    "           print(\"      value to reduce:\",value)\n",
    "           row_to_reduce = row_to_reduce - value*M_[row]\n",
    "           M_[j,:] = row_to_reduce\n",
    "    solution = M_[:,-1]\n",
    "    print(M_)\n",
    "    print(solution)"
   ]
  },
  {
   "cell_type": "markdown",
   "metadata": {},
   "source": [
    "### Test"
   ]
  },
  {
   "cell_type": "code",
   "execution_count": 164,
   "metadata": {},
   "outputs": [
    {
     "name": "stdout",
     "output_type": "stream",
     "text": [
      "[[-9. -1. -5.  1.]\n",
      " [-9. -9. -8.  4.]\n",
      " [ 0. -3. -8.  8.]]\n",
      "current pivot: -9.0\n",
      "value_below_pivot: -9.0\n",
      "Row value below * matriz[row] [-9. -1. -5.  1.]\n",
      "value_below_pivot: 0.0\n",
      "Row value below * matriz[row] [ 0.  0.  0. -0.]\n",
      "[[ 1.          0.11111111  0.55555556 -0.11111111]\n",
      " [ 0.         -8.         -3.          3.        ]\n",
      " [ 0.         -3.         -8.          8.        ]]\n",
      "________\n",
      "current pivot: -8.0\n",
      "value_below_pivot: -3.0\n",
      "Row value below * matriz[row] [ 0.    -3.    -1.125  1.125]\n",
      "[[ 1.          0.11111111  0.55555556 -0.11111111]\n",
      " [-0.          1.          0.375      -0.375     ]\n",
      " [ 0.          0.         -6.875       6.875     ]]\n",
      "________\n",
      "current pivot: -6.875\n",
      "[[ 1.          0.11111111  0.55555556 -0.11111111]\n",
      " [-0.          1.          0.375      -0.375     ]\n",
      " [-0.         -0.          1.         -1.        ]]\n",
      "________\n",
      "finish\n",
      "current row pivot: 2\n",
      "  current row subs: 0\n",
      "       [ 1.          0.11111111  0.55555556 -0.11111111]\n",
      "      value to reduce: 0.5555555555555556\n",
      "  current row subs: 1\n",
      "       [-0.     1.     0.375 -0.375]\n",
      "      value to reduce: 0.375\n",
      "current row pivot: 1\n",
      "  current row subs: 0\n",
      "       [1.         0.11111111 0.         0.44444444]\n",
      "      value to reduce: 0.1111111111111111\n",
      "current row pivot: 0\n",
      "[[ 1.          0.          0.          0.44444444]\n",
      " [ 0.          1.          0.          0.        ]\n",
      " [-0.         -0.          1.         -1.        ]]\n",
      "[ 0.44444444  0.         -1.        ]\n"
     ]
    }
   ],
   "source": [
    "A = np.array([[-9, -1, -5],[-9, -9, -8],[ 0, -3, -8]])\n",
    "B = np.array([[1],[4],[8]])\n",
    "x = row_echelon_form(A,B)\n",
    "back_substitution(x)"
   ]
  },
  {
   "cell_type": "markdown",
   "metadata": {},
   "source": [
    "### Test Auxiliar Functions"
   ]
  },
  {
   "cell_type": "code",
   "execution_count": null,
   "metadata": {},
   "outputs": [],
   "source": [
    "A = np.array([[1,2,3],[0,1,0], [0,0,5]])\n",
    "B = np.array([[1], [2], [4]])\n",
    "row_echelon_form(A,B)"
   ]
  },
  {
   "cell_type": "code",
   "execution_count": 129,
   "metadata": {},
   "outputs": [],
   "source": [
    "C = np.array([[1, 2, 3],[5, 0, 2], [1, 4, 5]])\n",
    "B2 = np.array([[4],[3],[6]])"
   ]
  },
  {
   "cell_type": "code",
   "execution_count": null,
   "metadata": {},
   "outputs": [],
   "source": [
    "x = row_echelon_form(C,B2)"
   ]
  },
  {
   "cell_type": "code",
   "execution_count": 140,
   "metadata": {},
   "outputs": [
    {
     "data": {
      "text/plain": [
       "array([[ 1.        ,  2.        ,  3.        ,  4.        ],\n",
       "       [-0.        ,  1.        ,  1.3       ,  1.7       ],\n",
       "       [-0.        , -0.        ,  1.        ,  2.33333333]])"
      ]
     },
     "execution_count": 140,
     "metadata": {},
     "output_type": "execute_result"
    }
   ],
   "source": [
    "x"
   ]
  },
  {
   "cell_type": "code",
   "execution_count": 155,
   "metadata": {},
   "outputs": [
    {
     "name": "stdout",
     "output_type": "stream",
     "text": [
      "current row pivot: 2\n",
      "  current row subs: 0\n",
      "       [1. 2. 3. 4.]\n",
      "      value to reduce: 3.0\n",
      "  current row subs: 1\n",
      "       [-0.   1.   1.3  1.7]\n",
      "      value to reduce: 1.3\n",
      "current row pivot: 1\n",
      "  current row subs: 0\n",
      "       [ 1.  2.  0. -3.]\n",
      "      value to reduce: 2.0\n",
      "current row pivot: 0\n",
      "[[ 1.          0.          0.         -0.33333333]\n",
      " [ 0.          1.          0.         -1.33333333]\n",
      " [-0.         -0.          1.          2.33333333]]\n",
      "[4.         1.7        2.33333333]\n"
     ]
    }
   ],
   "source": [
    "back_substitution(x)"
   ]
  },
  {
   "cell_type": "code",
   "execution_count": 111,
   "metadata": {},
   "outputs": [
    {
     "name": "stdout",
     "output_type": "stream",
     "text": [
      "[[ 1  3  6]\n",
      " [ 0 -5  2]\n",
      " [-4  5  8]]\n"
     ]
    }
   ],
   "source": [
    "M = np.array([\n",
    "[1, 3, 6],\n",
    "[0, -5, 2],\n",
    "[-4, 5, 8]\n",
    "])\n",
    "print(M)"
   ]
  },
  {
   "cell_type": "code",
   "execution_count": null,
   "metadata": {},
   "outputs": [],
   "source": [
    "M_swapped = swap_rows(M, 0, 2)\n",
    "print(M_swapped)"
   ]
  },
  {
   "cell_type": "code",
   "execution_count": null,
   "metadata": {},
   "outputs": [],
   "source": [
    "N = np.array([\n",
    "[0, 5, -3 ,6 ,8],\n",
    "[0, 6, 3, 8, 1],\n",
    "[0, 0, 0, 0, 0],\n",
    "[0, 0, 0 ,0 ,7],\n",
    "[0, 2, 1, 0, 4]\n",
    "]\n",
    ")\n",
    "print(N)"
   ]
  },
  {
   "cell_type": "code",
   "execution_count": 11,
   "metadata": {},
   "outputs": [
    {
     "name": "stdout",
     "output_type": "stream",
     "text": [
      "[0 0 0 0 0]\n",
      "-1\n"
     ]
    }
   ],
   "source": [
    "print(get_index_first_non_zero_value_from_column(N, column = 0, starting_row = 0))"
   ]
  },
  {
   "cell_type": "code",
   "execution_count": 12,
   "metadata": {},
   "outputs": [
    {
     "name": "stdout",
     "output_type": "stream",
     "text": [
      "[0 7 4]\n",
      "3\n"
     ]
    }
   ],
   "source": [
    "print(get_index_first_non_zero_value_from_column(N, column = -1, starting_row = 2))"
   ]
  },
  {
   "cell_type": "code",
   "execution_count": 19,
   "metadata": {},
   "outputs": [
    {
     "name": "stdout",
     "output_type": "stream",
     "text": [
      "Output for row 3: -1\n"
     ]
    }
   ],
   "source": [
    "print(f'Output for row 3: {get_index_first_non_zero_value_from_row(N, 3, augmented = True)}')"
   ]
  },
  {
   "cell_type": "code",
   "execution_count": 15,
   "metadata": {},
   "outputs": [
    {
     "name": "stdout",
     "output_type": "stream",
     "text": [
      "Output for row 2: -1\n",
      "Output for row 3: 4\n"
     ]
    }
   ],
   "source": [
    "print(f'Output for row 2: {get_index_first_non_zero_value_from_row(N, 2)}')\n",
    "print(f'Output for row 3: {get_index_first_non_zero_value_from_row(N, 3)}')"
   ]
  },
  {
   "cell_type": "code",
   "execution_count": 21,
   "metadata": {},
   "outputs": [
    {
     "name": "stdout",
     "output_type": "stream",
     "text": [
      "[[1 2 3 1]\n",
      " [3 4 5 5]\n",
      " [4 5 6 7]]\n"
     ]
    }
   ],
   "source": [
    "A = np.array([[1,2,3], [3,4,5], [4,5,6]])\n",
    "B = np.array([[1], [5], [7]])\n",
    "\n",
    "print(augmented_matrix(A,B))"
   ]
  },
  {
   "cell_type": "code",
   "execution_count": null,
   "metadata": {},
   "outputs": [
    {
     "name": "stdout",
     "output_type": "stream",
     "text": [
      "[[1. 2. 3. 1.]\n",
      " [0. 1. 0. 2.]\n",
      " [0. 0. 5. 4.]]\n",
      "current pivot: 1.0\n",
      "________\n",
      "current pivot: 0.0\n",
      "[1. 0.]\n",
      "first non zero below pivot candidate: 1\n",
      "________\n",
      "current pivot: 0.0\n",
      "[5.]\n",
      "first non zero below pivot candidate: 2\n",
      "________\n",
      "finish\n",
      "[[1. 2. 3. 1.]\n",
      " [0. 1. 0. 2.]\n",
      " [0. 0. 5. 4.]]\n"
     ]
    }
   ],
   "source": []
  },
  {
   "cell_type": "code",
   "execution_count": null,
   "metadata": {},
   "outputs": [],
   "source": []
  }
 ],
 "metadata": {
  "kernelspec": {
   "display_name": "Python 3",
   "language": "python",
   "name": "python3"
  },
  "language_info": {
   "codemirror_mode": {
    "name": "ipython",
    "version": 3
   },
   "file_extension": ".py",
   "mimetype": "text/x-python",
   "name": "python",
   "nbconvert_exporter": "python",
   "pygments_lexer": "ipython3",
   "version": "3.12.6"
  }
 },
 "nbformat": 4,
 "nbformat_minor": 2
}
